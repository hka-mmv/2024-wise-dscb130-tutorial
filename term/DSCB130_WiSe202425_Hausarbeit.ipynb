{
 "cells": [
  {
   "cell_type": "markdown",
   "id": "3c37bcda-ac59-4a5b-b555-253ad908ab41",
   "metadata": {},
   "source": [
    "## Hausarbeit DSCB130 WiSe 202425 (Version vom 14.10.2024, basierend auf 06.05.2024)\n",
    "Mitglieder: *Hier die Namen der Gruppenmitglieder eintragen*\n",
    "- Max Mustermann, muma1029\n",
    "- Julia Musterfrau, muju1004\n",
    "- Erika Hatspaß, haer1012"
   ]
  },
  {
   "cell_type": "markdown",
   "id": "93a3b06a",
   "metadata": {},
   "source": [
    "### Motivation\n",
    "In der sich ständig weiterentwickelnden Finanzlandschaft ist das Verständnis und die effektive Verwaltung eines Aktienportfolios für Investoren von entscheidender Bedeutung. In diesem Projekt werdet ihr eine Python-Anwendung entwickeln, mit der ihr den Aktienhandel verfolgen und analysieren könnt. "
   ]
  },
  {
   "cell_type": "markdown",
   "id": "dcef125c-8187-41e4-aa22-fa132181b8af",
   "metadata": {},
   "source": [
    "Das Programm ist in fünf Aufgabenblöcke unterteilt. Für die Implementierung und Präsentation des Aufgabenblocks bekommt ihr die jeweiligen Punkte als Klausurbonus. Damit ihr die Hausarbeit Punkte erhaltet, muss diese den Tutoren präsentiert werden. Für die Präsentation selbst gibt es auch 2 Punkte. Insgesamt könnt ihr durch die Projektarbeit maximal 18 Punkte erhalten."
   ]
  },
  {
   "cell_type": "markdown",
   "id": "6d2b2cff",
   "metadata": {},
   "source": [
    "### Aufgabe 1 (3 Punkte): Aktien-Transaktionen sammeln\n",
    "Der Benutzer soll angeben können welche Aktien er ver-/gekauft hat. Dabei sind folgende Informationen wichtig:\n",
    "- Ticker: Jede Aktie hat einen Ticker, z.B. gehört `TSLA` zu Tesla, Inc. ([Ticker-Übersicht](https://stockanalysis.com/stocks))\n",
    "- Datum der Transaktion: Dies kann z.B. das Format `YYYY-MM-DD` haben.\n",
    "- Anzahl der ver-/gekauften Aktien\n",
    "- Ver-/Kaufspreis der einzelnen Aktie\n",
    "\n",
    "Diese Ver-/Käufe müssen in einer Dateistruktur([container](https://cvw.cac.cornell.edu/python-performance/faster-python/python-containers)) gesammelt werden.\n"
   ]
  },
  {
   "cell_type": "code",
   "execution_count": null,
   "id": "c674e02e-88cb-499a-807b-5328f78e9d0b",
   "metadata": {},
   "outputs": [],
   "source": [
    "transaction_data = \"TODO_choose_container_type\" # i.e. list or dict\n",
    "\n",
    "def buy_stock(TODO_add_parameters):\n",
    "    pass # TODO: adds a buy transaction to the data\n",
    "\n",
    "def sell_stock(TODO_add_parameters):\n",
    "    pass # TODO: adds a sell transaction to the data\n",
    "\n",
    "def print_transactions(TODO_add_parameters):\n",
    "    pass # TODO: prints the transactions data"
   ]
  },
  {
   "cell_type": "code",
   "execution_count": null,
   "id": "ea1a11d3",
   "metadata": {},
   "outputs": [],
   "source": [
    "\"\"\"Example use\"\"\"\n",
    "buy_stock(transaction_data, \"AAPL\", \"2023-04-06\", 5, 150)\n",
    "buy_stock(transaction_data, \"TSLA\", \"2023-04-06\", 12, 700)\n",
    "buy_stock(transaction_data, \"MSFT\", \"2023-02-24\", 4, 250)\n",
    "sell_stock(transaction_data, \"AAPL\", \"2023-08-22\", 3, 200)\n",
    "sell_stock(transaction_data, \"TSLA\", \"2023-12-18\", 7, 620)\n",
    "sell_stock(transaction_data, \"MSFT\", \"2024-01-26\", 4, 400)\n",
    "print_transactions(transaction_data)\n",
    "\"\"\" EXAMPLE OUTPUT\n",
    "date        stock  amount   price  type\n",
    "2023-04-06   AAPL       5     150   buy\n",
    "2023-04-06   TSLA      12     700   buy\n",
    "2023-02-24   MSFT       4     250   buy\n",
    "2023-08-22   AAPL       3     200  sell\n",
    "2023-12-18   TSLA       7     620  sell\n",
    "2024-01-26   MSFT       4     400  sell\n",
    "\"\"\""
   ]
  },
  {
   "cell_type": "markdown",
   "id": "d887a932",
   "metadata": {},
   "source": [
    "### Aufgabe 2 (3 Punkte): Aktien-Transaktionen persistieren\n",
    "Um nicht bei jedem Start des Programms erneut die Transaktionen einpflegen zu müssen, soll der Benutzer die Möglichkeit haben die gesammelten Transaktionen auf der Festplatte zu speichern, sodass sie später (z.B. nach einem Neustart) wieder geladen werden könnnen. \n"
   ]
  },
  {
   "cell_type": "code",
   "execution_count": null,
   "id": "8f72a605",
   "metadata": {},
   "outputs": [],
   "source": [
    "# You probably want to import a package for this, for example json, csv or sqlite\n",
    "\n",
    "def save_data(TODO_add_parameters):\n",
    "    pass # TODO: save the data to a json file\n",
    "\n",
    "def load_data(TODO_add_parameters):\n",
    "    pass # TODO: load the data from a json file"
   ]
  },
  {
   "cell_type": "code",
   "execution_count": null,
   "id": "0e3d0247",
   "metadata": {},
   "outputs": [],
   "source": [
    "\"\"\"Example use\"\"\"\n",
    "FILE_PATH = \"path/to/a/file/to/save/the/data/in.xxx\" # i.e. data.json, data.csv or data.db\n",
    "\n",
    "save_data(transaction_data, FILE_PATH) # a file should be created and the transaction data is saved in it\n",
    "\n",
    "loaded_transaction_data = load_data(FILE_PATH) # the variable should then contain the data from the file\n"
   ]
  },
  {
   "cell_type": "markdown",
   "id": "d98b9e72",
   "metadata": {},
   "source": [
    "### Aufgabe 3 (4 Punkte):\n",
    "Der Benutzer soll eine Analyse über die Aktien in seinem Portfolio erhalten.\n",
    "Dazu sollte die Funktion `get_current_price` in `api_functions.py` genutzt werden. \n",
    "Das Python-Package `yfinance` muss installiert sein."
   ]
  },
  {
   "cell_type": "code",
   "execution_count": null,
   "id": "d08bca66-c777-4dcd-82c6-8964b83084ba",
   "metadata": {},
   "outputs": [],
   "source": [
    "def print_stock_analysis(TODO_add_parameters):\n",
    "    pass # TODO: print the analysis for a given stock\n",
    "\n",
    "def print_portfolio_analysis(TODO_add_parameters):\n",
    "    pass # TODO: print the analysis for all stocks in the transactions"
   ]
  },
  {
   "cell_type": "code",
   "execution_count": null,
   "id": "86f381d8",
   "metadata": {},
   "outputs": [],
   "source": [
    "print_stock_analysis(transaction_data, \"AAPL\")\n",
    "\"\"\" EXAMPLE OUTPUT\n",
    "Stock: AAPL\n",
    "  - Current Holding: 2 shares\n",
    "  - Current Price: $169.58\n",
    "  - Current Value: $339.16\n",
    "  - Realized Profit/Loss: $150.00\n",
    "  - Unrealized Profit/Loss: $39.16\n",
    "\"\"\"\n",
    "\n",
    "print_portfolio_analysis(transaction_data)\n",
    "\"\"\" EXAMPLE OUTPUT\n",
    "Portfolio Analysis Report\n",
    "--------------------------------------------------\n",
    "Stock: AAPL\n",
    "  - Current Holding: 2 shares\n",
    "  - Current Price: $169.58\n",
    "  - Current Value: $339.16\n",
    "  - Realized Profit/Loss: $150.00\n",
    "  - Unrealized Profit/Loss: $39.16\n",
    "--------------------------------------------------\n",
    "\n",
    "Stock: TSLA\n",
    "  - Current Holding: 5 shares\n",
    "  - Current Price: $164.90\n",
    "  - Current Value: $824.50\n",
    "  - Realized Profit/Loss: $-560.00\n",
    "  - Unrealized Profit/Loss: $-2675.50\n",
    "--------------------------------------------------\n",
    "\n",
    "Stock: MSFT\n",
    "  - Current Holding: 0 shares\n",
    "  - Current Price: $425.52\n",
    "  - Current Value: $0.00\n",
    "  - Realized Profit/Loss: $600.00\n",
    "  - Unrealized Profit/Loss: $0.00\n",
    "--------------------------------------------------\n",
    "\n",
    "Summary of All Stocks Combined\n",
    "--------------------------------------------------\n",
    "Total Current Value: $1163.66\n",
    "Total Realized Profit/Loss: $190.00\n",
    "Total Unrealized Profit/Loss: $-2636.34\n",
    "Total Relative Gain/Loss: -64.38%\n",
    "--------------------------------------------------\n",
    "\"\"\""
   ]
  },
  {
   "cell_type": "markdown",
   "id": "7b873a8e",
   "metadata": {},
   "source": [
    "### Aufgabe 4 (3 Punkte):\n",
    "Die Nutzer möchten gerne wissen, wie sich der Kurs einer Aktie in der letzten Zeit entwickelt hat. Dazu sollte die Funktion `get_history` in `api_functions.py` genutzt werden. \n",
    "Die Ausgabe soll folgende Informationen beinhalten:\n",
    "- Letzter Aktienkurs\n",
    "- Durchschnitt und Standardabweichung der Preisschwankungen (Differenz High/Low) über die letzte Zeit (Tipp: `numpy`-Funtionen [average()](https://numpy.org/doc/stable/reference/generated/numpy.average.html) und [std()](https://numpy.org/doc/stable/reference/generated/numpy.std.html))\n",
    "- Vergleich der Performance mit 'DAX' für sieben, 21 und 100 Tage, sowie ein Jahr in Prozent"
   ]
  },
  {
   "cell_type": "code",
   "execution_count": null,
   "id": "cc59d71b-5206-450b-bb0b-252cdae8f7b6",
   "metadata": {},
   "outputs": [],
   "source": [
    "def print_stock_information(TODO_add_parameters):\n",
    "    pass # TODO: print information about the stock"
   ]
  },
  {
   "cell_type": "code",
   "execution_count": null,
   "id": "0ad06780",
   "metadata": {},
   "outputs": [],
   "source": [
    "print_stock_information(\"AAPL\", \"100d\")\n",
    "\"\"\" EXAMPLE OUTPUT\n",
    "Infromation about AAPL\n",
    "Last Stock Price: $172.21\n",
    "Average Price Fluctuations: $2.83\n",
    "Standard Deviation of Price Fluctuations: $1.12\n",
    "Performance Compared To DAX(7 days): -1.03%\n",
    "Performance Compared To DAX(21 days): 2.84%\n",
    "Performance Compared To DAX(100 days): 6.09%\n",
    "Performance Compared To DAX(1 year): 20.76%\n",
    "\"\"\""
   ]
  },
  {
   "cell_type": "markdown",
   "id": "1065f6c6",
   "metadata": {},
   "source": [
    "### Aufgabe 5 (3 Punkte):\n",
    "Um Personen ohne technisches Verständnis die Nutzung des Programms zu ermöglichen, sollten diese die Möglickeit haben alle bisher implementierten Funktionen über das Terminal auszuführen (Command line interface)."
   ]
  },
  {
   "cell_type": "code",
   "execution_count": null,
   "id": "e1af9ddd-d63c-4e47-befb-8427dba5f359",
   "metadata": {},
   "outputs": [],
   "source": [
    "def run_command_line_interface():\n",
    "    pass # TODO: runs an CLI-Tool"
   ]
  },
  {
   "cell_type": "markdown",
   "id": "70db12f7",
   "metadata": {},
   "source": [
    "Im folgenden sind ein paar Beispiel-Interaktionen dargestellt. Benutzereingaben sind *kursiv* geschrieben<br> Ein- und Ausgaben können frei gestaltet werden.<br>\n",
    "<br>\n",
    "**Start**<br>\n",
    "Wähle eine Operation:<br>\n",
    "1: Aktie kaufen<br>\n",
    "2: Aktie verkaufen<br>\n",
    "3: Transaktionen ausgeben<br>\n",
    "4: Speicher Daten<br>\n",
    "5: Lade Daten<br>\n",
    "6: Aktienanalyse<br>\n",
    "7: Portfolioanalyse<br>\n",
    "8: Aktieninformationen ausgeben<br>\n",
    "9: Programm beenden<br>\n",
    "<br>\n",
    "**Operation \"Aktie kaufen\"**<br>\n",
    "*1*<br>\n",
    "Welche Aktie soll gekauft werden? Ticker:<br>\n",
    "*AAPL*<br>\n",
    "Wann wurde die Aktie gekauft?<br>\n",
    "*2023-04-06*<br>\n",
    "Wie viele Aktien würden gekauft?<br>\n",
    "*5*<br>\n",
    "Zu welchem Preis wurde die Aktie gekauft?<br>\n",
    "*150*<br>\n",
    "Der Kauf wurde hinzugefügt.<br>\n",
    "[wieder zurück zum Start...]<br>\n",
    "<br>\n",
    "**Operation \"Lade Daten\"**<br>\n",
    "*5*<br>\n",
    "Wie lautet der Dateipfad?<br>\n",
    "*data.json*<br>\n",
    "Daten wurden geladen.<br>\n",
    "[wieder zurück zum Start...]<br>"
   ]
  }
 ],
 "metadata": {
  "kernelspec": {
   "display_name": "Python 3 (ipykernel)",
   "language": "python",
   "name": "python3"
  },
  "language_info": {
   "codemirror_mode": {
    "name": "ipython",
    "version": 3
   },
   "file_extension": ".py",
   "mimetype": "text/x-python",
   "name": "python",
   "nbconvert_exporter": "python",
   "pygments_lexer": "ipython3",
   "version": "3.12.2"
  }
 },
 "nbformat": 4,
 "nbformat_minor": 5
}
